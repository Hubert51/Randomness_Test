{
 "cells": [
  {
   "cell_type": "code",
   "execution_count": 1,
   "metadata": {},
   "outputs": [],
   "source": [
    "import sys, os\n",
    "sys.path.append(os.path.dirname(os.getcwd()))"
   ]
  },
  {
   "cell_type": "code",
   "execution_count": 2,
   "metadata": {},
   "outputs": [],
   "source": [
    "import importlib\n",
    "import numpy as np\n",
    "from pdb import pm\n",
    "import utils.pbn_parse as pbn_parse\n",
    "from pprint import pprint\n",
    "import collections\n",
    "import matplotlib.pyplot as plt\n",
    "import utils.CardUtils as cu\n",
    "import utils.CardUtils as CardUtils\n",
    "import datetime\n",
    "import PyRandomUtils as pru\n",
    "import utils.sobol_seq as ss\n",
    "from rdrand import RdRandom\n",
    "from matplotlib.ticker import FuncFormatter\n",
    "\n"
   ]
  },
  {
   "cell_type": "code",
   "execution_count": 3,
   "metadata": {},
   "outputs": [],
   "source": [
    "# Global variable\n",
    "batch_size = 36 #number of deals in a batch\n",
    "num_batches = 717\n",
    "DECK = np.array(range(1,53), dtype=np.int8)\n"
   ]
  },
  {
   "cell_type": "code",
   "execution_count": 4,
   "metadata": {},
   "outputs": [],
   "source": [
    "def generate_bit_sequence(ts, tp):\n",
    "    '''\n",
    "        ts: is actually probability for one feature\n",
    "        tp: is theoretical probability for one feature\n",
    "    '''\n",
    "    bit_series = (ts-tp).T\n",
    "    bit_series[ np.where(bit_series>0) ] = 1\n",
    "    bit_series[ np.where( (bit_series<0) | (bit_series==0) )  ] = 0\n",
    "    return bit_series\n",
    "\n",
    "def print_result(feature_series, data_type):\n",
    "    one_value = len(np.where(feature_series == 1)[0])\n",
    "    zero_value = len(np.where(feature_series == 0)[0])\n",
    "\n",
    "    #     print(\"The theoretical value of ratio between 1 and 0 is 0.5\")\n",
    "    print(\"The value in {} is {}\".format(data_type, one_value / (one_value + zero_value)))\n",
    "    \n",
    "\n",
    "def make_ts(gen, batches=num_batches, batch_size=batch_size):\n",
    "    if ( type(gen) == RdRandom ):\n",
    "        ts = []\n",
    "        for j in range(num_batches):\n",
    "            temp = np.zeros(20)\n",
    "            for i in range(batch_size):\n",
    "                one_deal = DECK.copy()\n",
    "                gen.shuffle( one_deal )\n",
    "                temp += cu.get_features( (np.array(one_deal) ) )\n",
    "            temp /= batch_size\n",
    "            ts.append(temp)\n",
    "    else:\n",
    "        ts = [sum((cu.get_features(shuffled(gen)) for i in range(batch_size))) / batch_size\n",
    "              for j in range(num_batches)]\n",
    "    return np.array(ts).T\n",
    "\n",
    "\n",
    "def shuffled(gen):\n",
    "    tmp = np.array(DECK)\n",
    "    pru.shuffle(gen, tmp)\n",
    "    return tmp\n",
    "\n",
    "\n",
    "class SobolGen(pru.PRNG):\n",
    "    def __init__(self, seed):\n",
    "        self.seed = seed\n",
    "        \n",
    "    def rand(self):\n",
    "        r, self.seed = ss.i4_sobol(1, self.seed)\n",
    "        return r\n",
    "    \n",
    "    \n",
    "def feature_compare(RS, RS_name, tp ):\n",
    "    result = []\n",
    "    for index in range(len(RS[0][0,:])):\n",
    "        print(\"Compare feature: {}\".format(index))\n",
    "        temp = []\n",
    "        for i in range(len(RS)):\n",
    "            feature_series = generate_bit_sequence(RS[i][:, index], tp[index])\n",
    "            one_value = len(np.where(feature_series == 1)[0])\n",
    "            zero_value = len(np.where(feature_series == 0)[0])\n",
    "            print(\"The value in {} is {}\".format(RS_name[i], one_value / (one_value + zero_value)))            \n",
    "            temp.append(one_value / (one_value + zero_value))\n",
    "        result.append(temp)\n",
    "    return result\n"
   ]
  },
  {
   "cell_type": "code",
   "execution_count": 5,
   "metadata": {},
   "outputs": [],
   "source": [
    "tp = CardUtils.theoretical_probabilities\n",
    "\n",
    "\n",
    "RS = []\n",
    "RS_name = []\n",
    "\n"
   ]
  },
  {
   "cell_type": "code",
   "execution_count": 6,
   "metadata": {},
   "outputs": [],
   "source": [
    "# bad PRNG\n",
    "ts_bads = []\n",
    "for i in range(10,30,3):\n",
    "    bad_model = pru.LCG(mod=2**i, a=1140671485, c=128201163, seed=1)\n",
    "    ts_bad = np.swapaxes( make_ts(bad_model), 0, 1 )\n",
    "    RS.append(ts_bad)\n",
    "    RS_name.append(\"bad2^{}\".format(i))\n",
    "    # ts_bads.append(ts_bad)\n",
    "    # feature_series = generate_bit_sequence( ts_bad[:,0], tp[0] )\n",
    "    # print_result(feature_series)\n",
    "\n",
    "\n",
    "\n"
   ]
  },
  {
   "cell_type": "code",
   "execution_count": 7,
   "metadata": {},
   "outputs": [],
   "source": [
    "# sobol PRNG\n",
    "sobol = SobolGen(1)\n",
    "ts_sobol = make_ts(sobol)\n",
    "ts_sobol = np.swapaxes(ts_sobol, 0, 1)\n",
    "RS.append(ts_sobol)\n",
    "RS_name.append(\"Sobol\")\n"
   ]
  },
  {
   "cell_type": "code",
   "execution_count": null,
   "metadata": {},
   "outputs": [],
   "source": [
    "# test for good PRNG\n",
    "good = pru.PyRandGen(100)\n",
    "ts_good = np.swapaxes( make_ts(good), 0, 1)\n",
    "RS.append(ts_good)\n",
    "RS_name.append(\"Good\")\n"
   ]
  },
  {
   "cell_type": "code",
   "execution_count": null,
   "metadata": {},
   "outputs": [],
   "source": [
    "# test for hardware RNG\n",
    "hardware = RdRandom()\n",
    "ts_hardware = np.swapaxes( make_ts(hardware), 0, 1)\n",
    "RS.append(ts_hardware)\n",
    "RS_name.append(\"Hardware\")\n"
   ]
  },
  {
   "cell_type": "code",
   "execution_count": null,
   "metadata": {},
   "outputs": [],
   "source": [
    "# real game\n",
    "result = pbn_parse.get_all_files(tod=[\"Morning\", \"Afternoon\", \"Evening\"])\n",
    "ts = []\n",
    "for day in sorted(result.keys()):\n",
    "    ts.append(\n",
    "        sum((CardUtils.get_features(deal)\n",
    "             for deal in result[day])) / len(result[day]))\n",
    "ts = np.array(ts)\n",
    "RS.append(ts)\n",
    "RS_name.append(\"real game\")\n",
    "\n"
   ]
  },
  {
   "cell_type": "code",
   "execution_count": null,
   "metadata": {},
   "outputs": [],
   "source": [
    "feature_result = feature_compare(RS, RS_name, tp)\n",
    "\n"
   ]
  },
  {
   "cell_type": "code",
   "execution_count": null,
   "metadata": {
    "scrolled": false
   },
   "outputs": [],
   "source": [
    "print(feature_result[0])\n",
    "feature_result = np.array(feature_result)\n",
    "print(feature_result.shape[0])"
   ]
  },
  {
   "cell_type": "code",
   "execution_count": null,
   "metadata": {},
   "outputs": [],
   "source": [
    "def make_graphs_hist(feature_result, RS_name):\n",
    "    dim = feature_result.shape[0]\n",
    "    fig, ax = plt.subplots(dim,1, figsize = (15, 100))\n",
    "    x =  list(range(len(feature_result[0])))\n",
    "\n",
    "\n",
    "\n",
    "\n",
    "    for i in range(dim):\n",
    "        plt.subplot(dim,1,i+1)\n",
    "        plt.bar( x, feature_result[i])\n",
    "        plt.xticks(x, RS_name)\n",
    "        coord_x1 = -1\n",
    "        coord_y1 = 0.5\n",
    "\n",
    "        coord_x2 = 11\n",
    "        coord_y2 = 0.5\n",
    "\n",
    "        plt.plot([coord_x1, coord_x2], [coord_y1, coord_y1], '--', color=\"red\")\n",
    "        plt.title(CardUtils.feature_string[i])\n",
    "\n"
   ]
  },
  {
   "cell_type": "code",
   "execution_count": null,
   "metadata": {
    "scrolled": false
   },
   "outputs": [],
   "source": [
    "make_graphs_hist(feature_result, RS_name)"
   ]
  },
  {
   "cell_type": "code",
   "execution_count": null,
   "metadata": {},
   "outputs": [],
   "source": []
  }
 ],
 "metadata": {
  "kernelspec": {
   "display_name": "Python 3",
   "language": "python",
   "name": "python3"
  },
  "language_info": {
   "codemirror_mode": {
    "name": "ipython",
    "version": 3
   },
   "file_extension": ".py",
   "mimetype": "text/x-python",
   "name": "python",
   "nbconvert_exporter": "python",
   "pygments_lexer": "ipython3",
   "version": "3.5.2"
  }
 },
 "nbformat": 4,
 "nbformat_minor": 2
}
