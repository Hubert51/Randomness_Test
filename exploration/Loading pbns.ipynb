{
 "cells": [
  {
   "cell_type": "code",
   "execution_count": 1,
   "metadata": {},
   "outputs": [
    {
     "name": "stdout",
     "output_type": "stream",
     "text": [
      "/home/thom/Documents/research/Randomness_Test/python_code\n"
     ]
    }
   ],
   "source": [
    "cd python_code/"
   ]
  },
  {
   "cell_type": "code",
   "execution_count": 158,
   "metadata": {},
   "outputs": [],
   "source": [
    "import importlib\n",
    "import Card\n",
    "import Table\n",
    "import numpy as np\n",
    "from pdb import pm\n",
    "import pbn_parse\n",
    "from pprint import pprint\n",
    "import collections\n",
    "import matplotlib.pyplot as plt\n",
    "import CardUtils\n",
    "import datetime"
   ]
  },
  {
   "cell_type": "code",
   "execution_count": 146,
   "metadata": {},
   "outputs": [
    {
     "data": {
      "text/plain": [
       "<module 'CardUtils' from '/home/thom/Documents/research/Randomness_Test/python_code/CardUtils.py'>"
      ]
     },
     "execution_count": 146,
     "metadata": {},
     "output_type": "execute_result"
    }
   ],
   "source": [
    "importlib.reload(pbn_parse)\n",
    "importlib.reload(CardUtils)"
   ]
  },
  {
   "cell_type": "code",
   "execution_count": 147,
   "metadata": {},
   "outputs": [],
   "source": [
    "result = pbn_parse.get_all_files(tod='Afternoon')"
   ]
  },
  {
   "cell_type": "code",
   "execution_count": 148,
   "metadata": {},
   "outputs": [],
   "source": [
    "ts = []\n",
    "for day in sorted(result.keys()):\n",
    "    ts.append(\n",
    "        sum((CardUtils.get_features(deal) \n",
    "             for deal in result[day])) / len(result[day]))"
   ]
  },
  {
   "cell_type": "code",
   "execution_count": 154,
   "metadata": {},
   "outputs": [],
   "source": [
    "timeseries = np.array(ts).T"
   ]
  },
  {
   "cell_type": "code",
   "execution_count": 165,
   "metadata": {},
   "outputs": [
    {
     "data": {
      "text/plain": [
       "{'ls4': 0,\n",
       " 'ls5': 1,\n",
       " 'ls6': 2,\n",
       " 'ls7': 3,\n",
       " 'ls8': 4,\n",
       " 'ls9': 5,\n",
       " 'ls10': 6,\n",
       " 'ls11': 7,\n",
       " 'ls12': 8,\n",
       " 'ls13': 9,\n",
       " 'ss0': 10,\n",
       " 'ss1': 11,\n",
       " 'ss2': 12,\n",
       " 'ss3': 13,\n",
       " '6-5': 14,\n",
       " '6-6': 15,\n",
       " 'p<8': 16,\n",
       " 'p8-13': 17,\n",
       " 'p14-18': 18,\n",
       " 'p19+': 19}"
      ]
     },
     "execution_count": 165,
     "metadata": {},
     "output_type": "execute_result"
    }
   ],
   "source": [
    "CardUtils.fdict"
   ]
  },
  {
   "cell_type": "code",
   "execution_count": 168,
   "metadata": {},
   "outputs": [
    {
     "data": {
      "text/plain": [
       "[<matplotlib.lines.Line2D at 0x7f20992fba58>]"
      ]
     },
     "execution_count": 168,
     "metadata": {},
     "output_type": "execute_result"
    },
    {
     "data": {
      "image/png": "[encoded data removed]",
      "text/plain": [
       "<Figure size 432x288 with 1 Axes>"
      ]
     },
     "metadata": {
      "needs_background": "light"
     },
     "output_type": "display_data"
    }
   ],
   "source": [
    "plt.plot(timeseries[6])"
   ]
  },
  {
   "cell_type": "code",
   "execution_count": null,
   "metadata": {},
   "outputs": [],
   "source": []
  }
 ],
 "metadata": {
  "kernelspec": {
   "display_name": "Python 3",
   "language": "python",
   "name": "python3"
  },
  "language_info": {
   "codemirror_mode": {
    "name": "ipython",
    "version": 3
   },
   "file_extension": ".py",
   "mimetype": "text/x-python",
   "name": "python",
   "nbconvert_exporter": "python",
   "pygments_lexer": "ipython3",
   "version": "3.6.7"
  }
 },
 "nbformat": 4,
 "nbformat_minor": 2
}
