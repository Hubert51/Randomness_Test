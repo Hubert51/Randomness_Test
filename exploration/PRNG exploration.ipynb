{
 "cells": [
  {
   "cell_type": "code",
   "execution_count": 3,
   "metadata": {},
   "outputs": [],
   "source": [
    "import sys, os\n",
    "sys.path.append(os.path.dirname(os.getcwd()))"
   ]
  },
  {
   "cell_type": "code",
   "execution_count": 32,
   "metadata": {},
   "outputs": [],
   "source": [
    "import PyRandomUtils as pru\n",
    "from pdb import pm\n",
    "import utils.CardUtils as cu\n",
    "import numpy as np\n",
    "import matplotlib.pyplot as plt\n",
    "import utils.sobol_seq as ss"
   ]
  },
  {
   "cell_type": "code",
   "execution_count": 6,
   "metadata": {},
   "outputs": [],
   "source": [
    "batch_size = 36 #number of deals in a batch\n",
    "num_batches = 1000"
   ]
  },
  {
   "cell_type": "code",
   "execution_count": 73,
   "metadata": {},
   "outputs": [],
   "source": [
    "DECK = np.array(range(1,53), dtype=np.int8)\n",
    "ts = cu.theoretical_probabilities\n",
    "def shuffled(gen):\n",
    "    tmp = np.array(DECK)\n",
    "    pru.shuffle(gen, tmp)\n",
    "    return tmp"
   ]
  },
  {
   "cell_type": "code",
   "execution_count": 40,
   "metadata": {},
   "outputs": [],
   "source": [
    "class SobolGen(pru.PRNG):\n",
    "    def __init__(self, seed):\n",
    "        self.seed = seed\n",
    "        \n",
    "    def rand(self):\n",
    "        r, self.seed = ss.i4_sobol(1, self.seed)\n",
    "        return r"
   ]
  },
  {
   "cell_type": "code",
   "execution_count": 41,
   "metadata": {},
   "outputs": [],
   "source": [
    "#bad prng\n",
    "bad = pru.LCG(mod=2**5, a=5, seed=1)\n",
    "\n",
    "#deterministic gen\n",
    "sobol  = SobolGen(1)\n",
    "\n",
    "#good prng\n",
    "good = pru.PyRandGen(1)"
   ]
  },
  {
   "cell_type": "code",
   "execution_count": 120,
   "metadata": {},
   "outputs": [
    {
     "data": {
      "text/plain": [
       "array([41, 29, 17,  5, 42, 30, 19,  9, 43, 32, 22, 13, 44, 34, 25,  3, 45,\n",
       "       36, 28, 21, 46, 38, 31, 24, 20, 40, 14,  7, 47,  4, 37, 10, 48, 12,\n",
       "       26, 18, 49, 16,  6, 35, 50,  2, 11, 27, 51, 23, 33, 39, 52,  8,  1,\n",
       "       15], dtype=int8)"
      ]
     },
     "execution_count": 120,
     "metadata": {},
     "output_type": "execute_result"
    }
   ],
   "source": [
    "mydeck = shuffled(bad)\n",
    "mydeck"
   ]
  },
  {
   "cell_type": "code",
   "execution_count": 46,
   "metadata": {},
   "outputs": [],
   "source": [
    "def make_ts(gen, batches=num_batches, batch_size=batch_size):\n",
    "    ts = [sum((cu.get_features(shuffled(gen)) for i in range(batch_size))) / batch_size\n",
    "           for j in range(num_batches)]\n",
    "    return np.array(ts).T"
   ]
  },
  {
   "cell_type": "code",
   "execution_count": 48,
   "metadata": {},
   "outputs": [
    {
     "name": "stdout",
     "output_type": "stream",
     "text": [
      "CPU times: user 14.6 s, sys: 155 ms, total: 14.8 s\n",
      "Wall time: 14.2 s\n"
     ]
    }
   ],
   "source": [
    "%%time\n",
    "ts_bad = make_ts(bad)"
   ]
  },
  {
   "cell_type": "code",
   "execution_count": 49,
   "metadata": {},
   "outputs": [
    {
     "name": "stdout",
     "output_type": "stream",
     "text": [
      "CPU times: user 55.8 s, sys: 227 ms, total: 56.1 s\n",
      "Wall time: 55.5 s\n"
     ]
    }
   ],
   "source": [
    "%%time\n",
    "ts_sobol = make_ts(sobol)"
   ]
  },
  {
   "cell_type": "code",
   "execution_count": 50,
   "metadata": {},
   "outputs": [
    {
     "name": "stdout",
     "output_type": "stream",
     "text": [
      "CPU times: user 16 s, sys: 255 ms, total: 16.2 s\n",
      "Wall time: 15.6 s\n"
     ]
    }
   ],
   "source": [
    "%%time\n",
    "ts_good = make_ts(good)"
   ]
  },
  {
   "cell_type": "code",
   "execution_count": 130,
   "metadata": {},
   "outputs": [],
   "source": [
    "def make_graphs(ts):\n",
    "    dim = len(ts.shape[0])\n",
    "    fig, ax = plt.subplots(dim,1, figsize = (15, 100))\n",
    "\n",
    "    for i in range(dim):\n",
    "        plt.subplot(dim,1,i+1)\n",
    "        plt.title(cu.feature_string[i],fontsize=16)\n",
    "        plt.plot(ts_sobol[i] - tp[i])\n",
    "\n",
    "def print_means(ts):\n",
    "    means = np.apply_along_axis(np.mean, 1, ts)\n",
    "    tp = cu.theoretical_probabilities\n",
    "    print(\"{:22}{:^22}{:^22}{:^22}\".format(\"Feature\", \"p\", \"p_hat\", \"p-p_hat\"))\n",
    "    for i in range(len(cu.feature_string)):\n",
    "        print(\"{:20} {: 20.18f} {: 20.18f} {: 20.18f}\".format(cu.feature_string[i], \n",
    "                                           tp[i], \n",
    "                                           means[i], \n",
    "                                           tp[i]-means[i]))"
   ]
  },
  {
   "cell_type": "code",
   "execution_count": 132,
   "metadata": {},
   "outputs": [
    {
     "name": "stdout",
     "output_type": "stream",
     "text": [
      "Feature                         p                   p_hat                p-p_hat        \n",
      "ls4                   0.350800000000000001  0.351763888888888931 -0.000963888888888931\n",
      "ls5                   0.443400000000000016  0.442631944444444481  0.000768055555555536\n",
      "ls6                   0.165500000000000008  0.165284722222222236  0.000215277777777773\n",
      "ls7                   0.035299999999999998  0.035472222222222217 -0.000172222222222219\n",
      "ls8                   0.004700000000000000  0.004541666666666667  0.000158333333333333\n",
      "ls9                   0.000370000000000000  0.000277777777777778  0.000092222222222222\n",
      "ls10                  0.000017000000000000  0.000027777777777778 -0.000010777777777778\n",
      "ls11                  0.000000300000000000  0.000000000000000000  0.000000300000000000\n",
      "ls12                  0.000000003000000000  0.000000000000000000  0.000000003000000000\n",
      "ls13                  0.000000000006000000  0.000000000000000000  0.000000000006000000\n",
      "ss0                   0.051200000000000002  0.050736111111111114  0.000463888888888889\n",
      "ss1                   0.305499999999999994  0.306375000000000008 -0.000875000000000015\n",
      "ss2                   0.538000000000000034  0.536534722222222205  0.001465277777777829\n",
      "ss3                   0.105399999999999994  0.106354166666666666 -0.000954166666666673\n",
      "6-5                   0.013559999999999999  0.013173611111111112  0.000386388888888888\n",
      "6-6                   0.000720000000000000  0.000548611111111111  0.000171388888888889\n",
      "p<8                   0.285845999999999989  0.287458333333333316 -0.001612333333333327\n",
      "p8-13                 0.515398000000000023  0.512597222222222149  0.002800777777777874\n",
      "p14-18                0.184305000000000052  0.175097222222222237  0.009207777777777815\n",
      "p19+                  0.014450999999999992  0.024847222222222222 -0.010396222222222230\n"
     ]
    }
   ],
   "source": [
    "print_means(ts_good)"
   ]
  }
 ],
 "metadata": {
  "kernelspec": {
   "display_name": "Python 3",
   "language": "python",
   "name": "python3"
  },
  "language_info": {
   "codemirror_mode": {
    "name": "ipython",
    "version": 3
   },
   "file_extension": ".py",
   "mimetype": "text/x-python",
   "name": "python",
   "nbconvert_exporter": "python",
   "pygments_lexer": "ipython3",
   "version": "3.6.7"
  }
 },
 "nbformat": 4,
 "nbformat_minor": 2
}
