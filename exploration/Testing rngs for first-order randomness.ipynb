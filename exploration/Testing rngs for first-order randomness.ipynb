{
 "cells": [
  {
   "cell_type": "code",
   "execution_count": 1,
   "metadata": {
    "ExecuteTime": {
     "end_time": "2019-04-05T20:41:33.917168Z",
     "start_time": "2019-04-05T20:41:33.904897Z"
    }
   },
   "outputs": [
    {
     "name": "stdout",
     "output_type": "stream",
     "text": [
      "/home/thom/Documents/research/RandomBridge\n"
     ]
    }
   ],
   "source": [
    "cd .."
   ]
  },
  {
   "cell_type": "code",
   "execution_count": 2,
   "metadata": {
    "ExecuteTime": {
     "end_time": "2019-04-05T20:41:34.426894Z",
     "start_time": "2019-04-05T20:41:34.048818Z"
    }
   },
   "outputs": [],
   "source": [
    "import collections\n",
    "import datetime\n",
    "import importlib\n",
    "from pdb import pm\n",
    "from pprint import pprint\n",
    "from math import sqrt, floor, ceil\n",
    "\n",
    "import matplotlib.pyplot as plt\n",
    "import numpy as np\n",
    "\n",
    "from utils.CardUtils import theoretical_probabilities as tp\n",
    "from utils import PyRandomUtils as pru, CardUtils as cu, pbn_parse\n"
   ]
  },
  {
   "cell_type": "code",
   "execution_count": 3,
   "metadata": {
    "ExecuteTime": {
     "end_time": "2019-04-05T20:41:34.438835Z",
     "start_time": "2019-04-05T20:41:34.429579Z"
    }
   },
   "outputs": [
    {
     "data": {
      "text/html": [
       "<style>.container { width:90% !important; }</style>"
      ],
      "text/plain": [
       "<IPython.core.display.HTML object>"
      ]
     },
     "metadata": {},
     "output_type": "display_data"
    }
   ],
   "source": [
    "from IPython.core.display import display, HTML\n",
    "display(HTML(\"<style>.container { width:90% !important; }</style>\"))\n"
   ]
  },
  {
   "cell_type": "code",
   "execution_count": 4,
   "metadata": {
    "ExecuteTime": {
     "end_time": "2019-04-05T20:41:56.289731Z",
     "start_time": "2019-04-05T20:41:34.441081Z"
    }
   },
   "outputs": [],
   "source": [
    "#bad lcg\n",
    "badlcg = pru.LCG(mod=2**16, a=5, seed=1, c=0)\n",
    "\n",
    "#formerly used lcg\n",
    "randu = pru.LCG_RANDU(1)\n",
    "\n",
    "#good lcg\n",
    "goodlcg = pru.LCG(mod=2**32, a=1664525, c=1013904223, seed=1)\n",
    "\n",
    "#good prng\n",
    "mersenne = pru.PyRandGen(1)\n",
    "\n",
    "gens = {\n",
    "    \"Bad LCG\": badlcg,\n",
    "    \"RANDU\" : randu,\n",
    "    \"Good LCG\": goodlcg, \n",
    "    \"VdC 13\":pru.HaltonGen(base=52),\n",
    "    \"Halton 52\":pru.HaltonGen_Deck(batch_size=10**6),\n",
    "    \"Mersenne\":mersenne}"
   ]
  },
  {
   "cell_type": "code",
   "execution_count": 5,
   "metadata": {
    "ExecuteTime": {
     "end_time": "2019-04-05T20:41:56.299144Z",
     "start_time": "2019-04-05T20:41:56.292697Z"
    }
   },
   "outputs": [],
   "source": [
    "def find_means(ts):\n",
    "    means = np.apply_along_axis(np.mean, 1, ts)\n",
    "    sigma = np.apply_along_axis(np.std, 1, ts)\n",
    "    return means, sigma"
   ]
  },
  {
   "cell_type": "code",
   "execution_count": 6,
   "metadata": {
    "ExecuteTime": {
     "end_time": "2019-04-05T20:41:56.310388Z",
     "start_time": "2019-04-05T20:41:56.302836Z"
    }
   },
   "outputs": [],
   "source": [
    "def run_test(gen, n=10**6):\n",
    "    ts = pru.make_ts_no_batch(gen, n)\n",
    "    means, sigma = find_means(ts)\n",
    "    ret = []\n",
    "    for i in range(len(means)):\n",
    "        ret.append((means[i] - cu.theoretical_probabilities[i]) / (sigma[i] / sqrt(n)))\n",
    "    return ret"
   ]
  },
  {
   "cell_type": "code",
   "execution_count": 7,
   "metadata": {
    "ExecuteTime": {
     "end_time": "2019-04-05T20:45:55.418814Z",
     "start_time": "2019-04-05T20:41:56.313691Z"
    }
   },
   "outputs": [
    {
     "name": "stdout",
     "output_type": "stream",
     "text": [
      "Generator |ls4    |ls5    |ls6    |ls7    |ls8    |ls9    |ls10   |ls11   |ls12   |ls13   |ss0    |ss1    |ss2    |ss3    |6-5    |6-6    |7-5    |7-6    |p<8    |p8-13  |p14-18 |p19+   |\n"
     ]
    },
    {
     "name": "stderr",
     "output_type": "stream",
     "text": [
      "/home/thom/.local/lib/python3.6/site-packages/ipykernel_launcher.py:6: RuntimeWarning: divide by zero encountered in double_scalars\n",
      "  \n"
     ]
    },
    {
     "name": "stdout",
     "output_type": "stream",
     "text": [
      "Bad LCG   | -114.1|   25.7|   60.3|   74.3|   42.7|   31.7|   -inf|   -inf|   -inf|   -inf|   94.9|   88.9|  -75.3|  -95.5|   23.7|   21.4|   36.5|    7.4|  -10.3|    9.3|   -3.4|   -4.1|\n",
      "RANDU     |   -2.7|   -1.5|    2.8|    3.4|    2.8|    1.7|    0.5|   -0.2|   -inf|   -inf|    1.4|    1.8|   -2.0|   -1.2|    2.2|   -1.7|   -0.9|    0.4|    0.5|   -0.5|    1.0|   -1.3|\n",
      "Good LCG  |    0.8|   -2.5|    2.4|   -1.0|   -0.2|   -1.2|   -0.2|   -0.2|   -inf|   -inf|   -0.8|    1.0|   -1.1|    0.1|    0.4|    0.2|   -1.1|   -1.1|   -1.1|    0.9|   -0.3|   -0.2|\n",
      "VdC 13    |-6658.1|-3395.4| -202.4| 1027.8|  859.0|  791.9|  777.9|  535.8|  232.6|   98.1| 4889.0|-1138.1|-5003.2|-8274.7|  377.2|  260.3|  441.0|  716.8|  -85.1|  -29.2|  184.2| -110.9|\n",
      "Halton 52 |   -0.4|   -1.0|    1.7|   -1.0|    0.1|    1.5|   -0.1|    1.7|   -inf|   -inf|   -0.8|   -0.3|    1.1|   -1.3|   -0.1|    0.0|   -0.6|    1.1|    0.8|   -0.5|    0.1|   -0.3|\n",
      "Mersenne  |   -2.0|    1.9|    0.0|   -0.1|   -0.9|   -0.0|    1.0|    0.6|   -inf|   -inf|   -0.5|    0.2|    0.2|   -0.9|   -0.3|   -1.3|    0.8|   -2.2|    0.9|   -0.6|   -0.0|    0.3|\n"
     ]
    }
   ],
   "source": [
    "n = 10**6\n",
    "\n",
    "sigma=5\n",
    "all_results = []\n",
    "print(\"{:10}\".format(\"Generator\"), end='|')\n",
    "for x  in cu.feature_string:\n",
    "    print(\"{:7}\".format(x), end='|')\n",
    "print()\n",
    "for name, gen in gens.items():\n",
    "    results = run_test(gen, n)\n",
    "    all_results.append(results)\n",
    "    print(\"{:10}\".format(name), end='|')\n",
    "    for item in results:\n",
    "        print(\"{:7.1f}\".format(item), end='|')\n",
    "    print()"
   ]
  },
  {
   "cell_type": "code",
   "execution_count": null,
   "metadata": {},
   "outputs": [],
   "source": []
  }
 ],
 "metadata": {
  "kernelspec": {
   "display_name": "Python 3",
   "language": "python",
   "name": "python3"
  },
  "language_info": {
   "codemirror_mode": {
    "name": "ipython",
    "version": 3
   },
   "file_extension": ".py",
   "mimetype": "text/x-python",
   "name": "python",
   "nbconvert_exporter": "python",
   "pygments_lexer": "ipython3",
   "version": "3.6.7"
  },
  "latex_envs": {
   "LaTeX_envs_menu_present": true,
   "autoclose": false,
   "autocomplete": true,
   "bibliofile": "biblio.bib",
   "cite_by": "apalike",
   "current_citInitial": 1,
   "eqLabelWithNumbers": true,
   "eqNumInitial": 1,
   "hotkeys": {
    "equation": "Ctrl-E",
    "itemize": "Ctrl-I"
   },
   "labels_anchors": false,
   "latex_user_defs": false,
   "report_style_numbering": false,
   "user_envs_cfg": false
  }
 },
 "nbformat": 4,
 "nbformat_minor": 2
}
