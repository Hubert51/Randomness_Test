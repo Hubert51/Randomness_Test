{
 "cells": [
  {
   "cell_type": "code",
   "execution_count": 1,
   "metadata": {
    "ExecuteTime": {
     "end_time": "2019-03-22T19:18:45.697194Z",
     "start_time": "2019-03-22T19:18:45.687291Z"
    }
   },
   "outputs": [
    {
     "name": "stdout",
     "output_type": "stream",
     "text": [
      "/home/thom/Documents/research/RandomBridge/utils\n"
     ]
    }
   ],
   "source": [
    "cd ../utils\n"
   ]
  },
  {
   "cell_type": "code",
   "execution_count": 2,
   "metadata": {
    "ExecuteTime": {
     "end_time": "2019-03-22T19:18:46.672715Z",
     "start_time": "2019-03-22T19:18:46.176093Z"
    }
   },
   "outputs": [],
   "source": [
    "import collections\n",
    "import datetime\n",
    "import importlib\n",
    "from pdb import pm\n",
    "from pprint import pprint\n",
    "from math import sqrt, floor, ceil\n",
    "\n",
    "import matplotlib.pyplot as plt\n",
    "import numpy as np\n",
    "\n",
    "import CardUtils as cu\n",
    "from CardUtils import theoretical_probabilities as tp\n",
    "import pbn_parse\n",
    "import PyRandomUtils as pru\n",
    "import RandomTests\n",
    "\n",
    "pru = importlib.reload(pru)"
   ]
  },
  {
   "cell_type": "code",
   "execution_count": 31,
   "metadata": {
    "ExecuteTime": {
     "end_time": "2019-03-22T20:01:11.862303Z",
     "start_time": "2019-03-22T20:01:11.846158Z"
    }
   },
   "outputs": [
    {
     "data": {
      "text/html": [
       "<style>.container { width:90% !important; }</style>"
      ],
      "text/plain": [
       "<IPython.core.display.HTML object>"
      ]
     },
     "metadata": {},
     "output_type": "display_data"
    }
   ],
   "source": [
    "from IPython.core.display import display, HTML\n",
    "display(HTML(\"<style>.container { width:90% !important; }</style>\"))\n"
   ]
  },
  {
   "cell_type": "code",
   "execution_count": 32,
   "metadata": {
    "ExecuteTime": {
     "end_time": "2019-03-22T20:01:17.002300Z",
     "start_time": "2019-03-22T20:01:16.982846Z"
    }
   },
   "outputs": [],
   "source": [
    "#bad lcg\n",
    "badlcg = pru.LCG(mod=2**16, a=5, seed=1, c=0)\n",
    "\n",
    "#formerly used lcg\n",
    "randu = pru.LCG_RANDU(1)\n",
    "\n",
    "#good lcg\n",
    "goodlcg = pru.LCG(mod=2**32, a=1664525, c=1013904223, seed=1)\n",
    "\n",
    "#deterministic gen\n",
    "\n",
    "halton2 = pru.HaltonGen(base=2)\n",
    "halton5 = pru.HaltonGen(base=5)\n",
    "halton11 = pru.HaltonGen(base=11)\n",
    "halton13 = pru.HaltonGen(base=13)\n",
    "\n",
    "#good prng\n",
    "mersenne = pru.PyRandGen(1)\n",
    "\n",
    "gens = {\n",
    "    \"Bad LCG\": badlcg,\n",
    "    \"RANDU\" : randu,\n",
    "    \"Good LCG\": goodlcg, \n",
    "    \"Halton 2\":halton2,\n",
    "    \"Halton 5\":halton5,\n",
    "    \"Halton 11\":halton11,\n",
    "    \"Halton 13\":halton13,\n",
    "    \"Mersenne\":mersenne}"
   ]
  },
  {
   "cell_type": "code",
   "execution_count": 33,
   "metadata": {
    "ExecuteTime": {
     "end_time": "2019-03-22T20:01:17.342389Z",
     "start_time": "2019-03-22T20:01:17.328926Z"
    }
   },
   "outputs": [],
   "source": [
    "def find_means(ts):\n",
    "    means = np.apply_along_axis(np.mean, 1, ts)\n",
    "    sigma = np.apply_along_axis(np.std, 1, ts)\n",
    "    return means, sigma"
   ]
  },
  {
   "cell_type": "code",
   "execution_count": 34,
   "metadata": {
    "ExecuteTime": {
     "end_time": "2019-03-22T20:01:17.607221Z",
     "start_time": "2019-03-22T20:01:17.592956Z"
    }
   },
   "outputs": [],
   "source": [
    "def run_test(gen, n=10**6, significant_sigmas=5):\n",
    "    ts = pru.make_ts_no_batch(gen, n)\n",
    "    means, sigma = find_means(ts)\n",
    "    ret = []\n",
    "    for i in range(len(means)):\n",
    "#         if abs(means[i]) > significant_sigmas*sigma[i] / sqrt(n):\n",
    "#             ret.append(True)\n",
    "#         else:\n",
    "#             ret.append(False)\n",
    "#         ret.append(means[i]*100)\n",
    "        ret.append((means[i] - cu.theoretical_probabilities[i]) / (sigma[i] / sqrt(n)))\n",
    "    return ret"
   ]
  },
  {
   "cell_type": "code",
   "execution_count": 36,
   "metadata": {
    "ExecuteTime": {
     "end_time": "2019-03-22T20:09:42.179636Z",
     "start_time": "2019-03-22T20:04:06.580043Z"
    }
   },
   "outputs": [
    {
     "name": "stdout",
     "output_type": "stream",
     "text": [
      "Generator |ls4    |ls5    |ls6    |ls7    |ls8    |ls9    |ls10   |ls11   |ls12   |ls13   |ss0    |ss1    |ss2    |ss3    |6-5    |6-6    |7-5    |7-6    |p<8    |p8-13  |p14-18 |p19+   |\n"
     ]
    },
    {
     "name": "stderr",
     "output_type": "stream",
     "text": [
      "/home/thom/.local/lib/python3.6/site-packages/ipykernel_launcher.py:11: RuntimeWarning: divide by zero encountered in double_scalars\n",
      "  # This is added back by InteractiveShellApp.init_path()\n"
     ]
    },
    {
     "name": "stdout",
     "output_type": "stream",
     "text": [
      "Bad LCG   | -36.03|   8.06|  19.03|  23.49|  13.64|  10.00|   -inf|   -inf|   -inf|   -inf|  30.13|  28.08| -23.96| -29.94|   7.52|   6.62|  11.50|   2.40|  -3.20|   2.84|  -0.97|  -1.30|\n",
      "RANDU     |  -1.18|  -0.97|   1.89|   0.98|   1.61|  -0.68|   0.42|   -inf|   -inf|   -inf|   0.37|   1.74|  -0.77|  -1.87|   0.13|  -1.34|   0.14|  -1.31|   0.76|  -0.42|   0.03|  -0.18|\n",
      "Good LCG  |  -1.48|  -0.35|   1.83|   0.56|   0.68|   0.71|  -0.81|   -inf|   -inf|   -inf|  -0.47|   2.29|  -2.29|   0.37|   2.10|  -0.42|  -1.48|   1.06|  -1.90|   1.39|   0.20|  -1.30|\n",
      "Halton 2  | 195.87|-149.38| -94.02| -34.00| -38.87|   -inf|   -inf|   -inf|   -inf|   -inf| -40.36|-133.00|   6.61| 149.47| -32.98|   0.58|  -7.86|  11.42| -56.22|  52.56| -26.40| -12.30|\n",
      "Halton 5  | 322.11|-223.38|-187.70|   -inf|   -inf|   -inf|   -inf|   -inf|   -inf|   -inf|-118.04|-445.87| -81.20| 405.54|   -inf|   -inf|   -inf|   -inf| 138.15|-175.11|  41.30|  76.50|\n",
      "Halton 11 |  95.13|  17.76|-132.53|-156.76| -58.21|   -inf|   -inf|   -inf|   -inf|   -inf| -71.72| -96.01|  38.35|  96.80| -65.51|   -inf|   -inf|   -inf|-120.90| 131.56| -64.63|-208.92|\n",
      "Halton 13 | 139.73| -57.87| -90.36| -84.40| -61.87|   -inf|   -inf|   -inf|   -inf|   -inf| -12.86| -69.92| -16.27| 108.34| -38.46|   1.84| -11.35|   -inf|-148.93| 143.40| -52.25|-425.86|\n",
      "Mersenne  |  -0.97|   1.17|  -0.54|   1.07|  -1.91|  -0.94|   1.50|   -inf|   -inf|   -inf|  -0.13|   1.42|  -1.44|   0.07|  -0.22|  -1.72|  -0.24|  -1.60|   1.55|  -1.80|   2.06|  -1.11|\n"
     ]
    }
   ],
   "source": [
    "n = 10**5\n",
    "\n",
    "sigma=5\n",
    "all_results = []\n",
    "print(\"{:10}\".format(\"Generator\"), end='|')\n",
    "for x  in cu.feature_string:\n",
    "    print(\"{:7}\".format(x), end='|')\n",
    "print()\n",
    "for name, gen in gens.items():\n",
    "    results = run_test(gen, n, sigma)\n",
    "    all_results.append(results)\n",
    "    print(\"{:10}\".format(name), end='|')\n",
    "    for item in results:\n",
    "        print(\"{:7.2f}\".format(item), end='|')\n",
    "    print()"
   ]
  },
  {
   "cell_type": "code",
   "execution_count": 25,
   "metadata": {
    "ExecuteTime": {
     "end_time": "2019-03-20T14:43:17.624226Z",
     "start_time": "2019-03-20T14:43:17.607992Z"
    }
   },
   "outputs": [
    {
     "name": "stdout",
     "output_type": "stream",
     "text": [
      "35.080|44.340|16.550| 3.530| 0.470| 0.037| 0.002| 0.000| 0.000| 0.000| 5.120|30.550|53.800|10.540| 1.356| 0.072| 0.109| 0.006|28.585|51.540|17.394| 2.481|"
     ]
    }
   ],
   "source": [
    "for item in cu.theoretical_probabilities:\n",
    "        print(\"{:6.3f}\".format(item*100), end='|')"
   ]
  },
  {
   "cell_type": "code",
   "execution_count": 13,
   "metadata": {
    "ExecuteTime": {
     "end_time": "2019-03-20T04:06:55.526613Z",
     "start_time": "2019-03-20T03:49:09.074993Z"
    }
   },
   "outputs": [
    {
     "name": "stdout",
     "output_type": "stream",
     "text": [
      "Generator |ls4 |ls5 |ls6 |ls7 |ls8 |ls9 |ls10|ls11|ss0 |ss1 |ss2 |ss3 |6-5 |6-6 |7-5 |7-6 |p<8 |p8-13|p14-18|p19+|\n",
      "Bad LCG   |    |    |    |    |    |    |XXXX|XXXX|    |    |    |    |    |    |XXXX|XXXX|    |    |    |    |\n",
      "RANDU     |    |    |    |    |    |    |    |XXXX|    |    |    |    |    |    |XXXX|XXXX|    |    |    |    |\n",
      "Good LCG  |    |    |    |    |    |    |XXXX|XXXX|    |    |    |    |    |    |XXXX|XXXX|    |    |    |    |\n",
      "Halton 2  |    |    |    |    |    |    |    |    |    |    |    |    |    |    |XXXX|XXXX|    |    |    |    |\n",
      "Halton 5  |    |    |    |XXXX|XXXX|XXXX|XXXX|XXXX|XXXX|    |    |    |XXXX|XXXX|XXXX|XXXX|    |    |    |XXXX|\n",
      "Halton 11 |    |    |    |    |    |XXXX|XXXX|XXXX|    |    |    |    |    |    |XXXX|XXXX|    |    |    |    |\n",
      "Halton 13 |    |    |    |    |    |XXXX|XXXX|XXXX|    |    |    |    |    |XXXX|XXXX|XXXX|    |    |    |    |\n",
      "Mersenne  |    |    |    |    |    |    |    |XXXX|    |    |    |    |    |    |XXXX|XXXX|    |    |    |    |\n"
     ]
    }
   ],
   "source": [
    "n = 3 * 10**5\n",
    "sigma=5\n",
    "all_results = []\n",
    "print(\"{:10}\".format(\"Generator\"), end='|')\n",
    "for x  in cu.feature_string:\n",
    "    print(\"{:4}\".format(x), end='|')\n",
    "print()\n",
    "for name, gen in gens.items():\n",
    "    results = run_test(gen, n, sigma)\n",
    "    all_results.append(results)\n",
    "    print(\"{:10}\".format(name), end='|')\n",
    "    for item in results:\n",
    "        print(\"    \" if item else 'XXXX', end='|')\n",
    "    print()"
   ]
  },
  {
   "cell_type": "code",
   "execution_count": 13,
   "metadata": {
    "ExecuteTime": {
     "end_time": "2019-03-22T19:01:35.194263Z",
     "start_time": "2019-03-22T18:55:28.133622Z"
    }
   },
   "outputs": [
    {
     "ename": "KeyboardInterrupt",
     "evalue": "",
     "output_type": "error",
     "traceback": [
      "\u001b[0;31m---------------------------------------------------------------------------\u001b[0m",
      "\u001b[0;31mKeyboardInterrupt\u001b[0m                         Traceback (most recent call last)",
      "\u001b[0;32m<ipython-input-13-f4ddba5b8762>\u001b[0m in \u001b[0;36m<module>\u001b[0;34m\u001b[0m\n\u001b[1;32m      3\u001b[0m \u001b[0;34m\u001b[0m\u001b[0m\n\u001b[1;32m      4\u001b[0m \u001b[0;32mfor\u001b[0m \u001b[0mi\u001b[0m \u001b[0;32min\u001b[0m \u001b[0mrange\u001b[0m\u001b[0;34m(\u001b[0m\u001b[0;36m10\u001b[0m\u001b[0;34m**\u001b[0m\u001b[0;36m6\u001b[0m\u001b[0;34m)\u001b[0m\u001b[0;34m:\u001b[0m\u001b[0;34m\u001b[0m\u001b[0;34m\u001b[0m\u001b[0m\n\u001b[0;32m----> 5\u001b[0;31m     \u001b[0mcounter\u001b[0m\u001b[0;34m.\u001b[0m\u001b[0mupdate\u001b[0m\u001b[0;34m(\u001b[0m\u001b[0;34m(\u001b[0m\u001b[0mhalton2\u001b[0m\u001b[0;34m.\u001b[0m\u001b[0mrandint\u001b[0m\u001b[0;34m(\u001b[0m\u001b[0;36m0\u001b[0m\u001b[0;34m,\u001b[0m \u001b[0;36m52\u001b[0m\u001b[0;34m)\u001b[0m \u001b[0;32mfor\u001b[0m \u001b[0mx\u001b[0m \u001b[0;32min\u001b[0m \u001b[0mrange\u001b[0m\u001b[0;34m(\u001b[0m\u001b[0;36m100\u001b[0m\u001b[0;34m)\u001b[0m\u001b[0;34m)\u001b[0m\u001b[0;34m)\u001b[0m\u001b[0;34m\u001b[0m\u001b[0;34m\u001b[0m\u001b[0m\n\u001b[0m",
      "\u001b[0;32m/usr/lib/python3.6/collections/__init__.py\u001b[0m in \u001b[0;36mupdate\u001b[0;34m(*args, **kwds)\u001b[0m\n\u001b[1;32m    620\u001b[0m                     \u001b[0msuper\u001b[0m\u001b[0;34m(\u001b[0m\u001b[0mCounter\u001b[0m\u001b[0;34m,\u001b[0m \u001b[0mself\u001b[0m\u001b[0;34m)\u001b[0m\u001b[0;34m.\u001b[0m\u001b[0mupdate\u001b[0m\u001b[0;34m(\u001b[0m\u001b[0miterable\u001b[0m\u001b[0;34m)\u001b[0m \u001b[0;31m# fast path when counter is empty\u001b[0m\u001b[0;34m\u001b[0m\u001b[0;34m\u001b[0m\u001b[0m\n\u001b[1;32m    621\u001b[0m             \u001b[0;32melse\u001b[0m\u001b[0;34m:\u001b[0m\u001b[0;34m\u001b[0m\u001b[0;34m\u001b[0m\u001b[0m\n\u001b[0;32m--> 622\u001b[0;31m                 \u001b[0m_count_elements\u001b[0m\u001b[0;34m(\u001b[0m\u001b[0mself\u001b[0m\u001b[0;34m,\u001b[0m \u001b[0miterable\u001b[0m\u001b[0;34m)\u001b[0m\u001b[0;34m\u001b[0m\u001b[0;34m\u001b[0m\u001b[0m\n\u001b[0m\u001b[1;32m    623\u001b[0m         \u001b[0;32mif\u001b[0m \u001b[0mkwds\u001b[0m\u001b[0;34m:\u001b[0m\u001b[0;34m\u001b[0m\u001b[0;34m\u001b[0m\u001b[0m\n\u001b[1;32m    624\u001b[0m             \u001b[0mself\u001b[0m\u001b[0;34m.\u001b[0m\u001b[0mupdate\u001b[0m\u001b[0;34m(\u001b[0m\u001b[0mkwds\u001b[0m\u001b[0;34m)\u001b[0m\u001b[0;34m\u001b[0m\u001b[0;34m\u001b[0m\u001b[0m\n",
      "\u001b[0;32m<ipython-input-13-f4ddba5b8762>\u001b[0m in \u001b[0;36m<genexpr>\u001b[0;34m(.0)\u001b[0m\n\u001b[1;32m      3\u001b[0m \u001b[0;34m\u001b[0m\u001b[0m\n\u001b[1;32m      4\u001b[0m \u001b[0;32mfor\u001b[0m \u001b[0mi\u001b[0m \u001b[0;32min\u001b[0m \u001b[0mrange\u001b[0m\u001b[0;34m(\u001b[0m\u001b[0;36m10\u001b[0m\u001b[0;34m**\u001b[0m\u001b[0;36m6\u001b[0m\u001b[0;34m)\u001b[0m\u001b[0;34m:\u001b[0m\u001b[0;34m\u001b[0m\u001b[0;34m\u001b[0m\u001b[0m\n\u001b[0;32m----> 5\u001b[0;31m     \u001b[0mcounter\u001b[0m\u001b[0;34m.\u001b[0m\u001b[0mupdate\u001b[0m\u001b[0;34m(\u001b[0m\u001b[0;34m(\u001b[0m\u001b[0mhalton2\u001b[0m\u001b[0;34m.\u001b[0m\u001b[0mrandint\u001b[0m\u001b[0;34m(\u001b[0m\u001b[0;36m0\u001b[0m\u001b[0;34m,\u001b[0m \u001b[0;36m52\u001b[0m\u001b[0;34m)\u001b[0m \u001b[0;32mfor\u001b[0m \u001b[0mx\u001b[0m \u001b[0;32min\u001b[0m \u001b[0mrange\u001b[0m\u001b[0;34m(\u001b[0m\u001b[0;36m100\u001b[0m\u001b[0;34m)\u001b[0m\u001b[0;34m)\u001b[0m\u001b[0;34m)\u001b[0m\u001b[0;34m\u001b[0m\u001b[0;34m\u001b[0m\u001b[0m\n\u001b[0m",
      "\u001b[0;31mKeyboardInterrupt\u001b[0m: "
     ]
    }
   ],
   "source": [
    "import collections\n",
    "counter = collections.Counter()\n",
    "\n",
    "for i in range(10**6):\n",
    "    counter.update((badlcg.randint(0, 52) for x in range(100)))"
   ]
  }
 ],
 "metadata": {
  "kernelspec": {
   "display_name": "Python 3",
   "language": "python",
   "name": "python3"
  },
  "language_info": {
   "codemirror_mode": {
    "name": "ipython",
    "version": 3
   },
   "file_extension": ".py",
   "mimetype": "text/x-python",
   "name": "python",
   "nbconvert_exporter": "python",
   "pygments_lexer": "ipython3",
   "version": "3.6.7"
  },
  "latex_envs": {
   "LaTeX_envs_menu_present": true,
   "autoclose": false,
   "autocomplete": true,
   "bibliofile": "biblio.bib",
   "cite_by": "apalike",
   "current_citInitial": 1,
   "eqLabelWithNumbers": true,
   "eqNumInitial": 1,
   "hotkeys": {
    "equation": "Ctrl-E",
    "itemize": "Ctrl-I"
   },
   "labels_anchors": false,
   "latex_user_defs": false,
   "report_style_numbering": false,
   "user_envs_cfg": false
  }
 },
 "nbformat": 4,
 "nbformat_minor": 2
}
