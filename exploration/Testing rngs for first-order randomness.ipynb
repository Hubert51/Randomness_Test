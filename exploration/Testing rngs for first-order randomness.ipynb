{
 "cells": [
  {
   "cell_type": "code",
   "execution_count": 1,
   "metadata": {
    "ExecuteTime": {
     "end_time": "2019-03-26T21:41:43.089008Z",
     "start_time": "2019-03-26T21:41:43.081693Z"
    }
   },
   "outputs": [
    {
     "name": "stdout",
     "output_type": "stream",
     "text": [
      "/home/thom/Documents/research/RandomBridge\n"
     ]
    }
   ],
   "source": [
    "cd .."
   ]
  },
  {
   "cell_type": "code",
   "execution_count": 2,
   "metadata": {
    "ExecuteTime": {
     "end_time": "2019-03-26T21:41:44.734347Z",
     "start_time": "2019-03-26T21:41:44.449524Z"
    }
   },
   "outputs": [],
   "source": [
    "import collections\n",
    "import datetime\n",
    "import importlib\n",
    "from pdb import pm\n",
    "from pprint import pprint\n",
    "from math import sqrt, floor, ceil\n",
    "\n",
    "import matplotlib.pyplot as plt\n",
    "import numpy as np\n",
    "\n",
    "from utils.CardUtils import theoretical_probabilities as tp\n",
    "from utils import PyRandomUtils as pru, CardUtils as cu, pbn_parse\n"
   ]
  },
  {
   "cell_type": "code",
   "execution_count": 3,
   "metadata": {
    "ExecuteTime": {
     "end_time": "2019-03-26T21:41:44.743078Z",
     "start_time": "2019-03-26T21:41:44.737105Z"
    }
   },
   "outputs": [
    {
     "data": {
      "text/html": [
       "<style>.container { width:90% !important; }</style>"
      ],
      "text/plain": [
       "<IPython.core.display.HTML object>"
      ]
     },
     "metadata": {},
     "output_type": "display_data"
    }
   ],
   "source": [
    "from IPython.core.display import display, HTML\n",
    "display(HTML(\"<style>.container { width:90% !important; }</style>\"))\n"
   ]
  },
  {
   "cell_type": "code",
   "execution_count": 4,
   "metadata": {
    "ExecuteTime": {
     "end_time": "2019-03-26T21:41:52.788929Z",
     "start_time": "2019-03-26T21:41:52.779950Z"
    }
   },
   "outputs": [],
   "source": [
    "#bad lcg\n",
    "badlcg = pru.LCG(mod=2**16, a=5, seed=1, c=0)\n",
    "\n",
    "#formerly used lcg\n",
    "randu = pru.LCG_RANDU(1)\n",
    "\n",
    "#good lcg\n",
    "goodlcg = pru.LCG(mod=2**32, a=1664525, c=1013904223, seed=1)\n",
    "\n",
    "#deterministic gen\n",
    "\n",
    "halton2 = pru.HaltonGen(base=2)\n",
    "halton5 = pru.HaltonGen(base=5)\n",
    "halton11 = pru.HaltonGen(base=11)\n",
    "halton13 = pru.HaltonGen(base=13)\n",
    "\n",
    "#good prng\n",
    "mersenne = pru.PyRandGen(1)\n",
    "\n",
    "gens = {\n",
    "    \"Bad LCG\": badlcg,\n",
    "    \"RANDU\" : randu,\n",
    "    \"Good LCG\": goodlcg, \n",
    "    \"Halton 2\":halton2,\n",
    "    \"Halton 5\":halton5,\n",
    "    \"Halton 11\":halton11,\n",
    "    \"Halton 13\":halton13,\n",
    "    \"Halton 52\":pru.HaltonGen(base=52),\n",
    "    \"Mersenne\":mersenne}"
   ]
  },
  {
   "cell_type": "code",
   "execution_count": 5,
   "metadata": {
    "ExecuteTime": {
     "end_time": "2019-03-26T21:41:54.305182Z",
     "start_time": "2019-03-26T21:41:54.298405Z"
    }
   },
   "outputs": [],
   "source": [
    "def find_means(ts):\n",
    "    means = np.apply_along_axis(np.mean, 1, ts)\n",
    "    sigma = np.apply_along_axis(np.std, 1, ts)\n",
    "    return means, sigma"
   ]
  },
  {
   "cell_type": "code",
   "execution_count": 6,
   "metadata": {
    "ExecuteTime": {
     "end_time": "2019-03-26T21:41:54.548145Z",
     "start_time": "2019-03-26T21:41:54.529113Z"
    }
   },
   "outputs": [],
   "source": [
    "def run_test(gen, n=10**6, significant_sigmas=5):\n",
    "    ts = pru.make_ts_no_batch(gen, n)\n",
    "    means, sigma = find_means(ts)\n",
    "    ret = []\n",
    "    for i in range(len(means)):\n",
    "        ret.append((means[i] - cu.theoretical_probabilities[i]) / (sigma[i] / sqrt(n)))\n",
    "    return ret"
   ]
  },
  {
   "cell_type": "code",
   "execution_count": 7,
   "metadata": {
    "ExecuteTime": {
     "end_time": "2019-03-26T23:59:50.528006Z",
     "start_time": "2019-03-26T21:41:55.924912Z"
    }
   },
   "outputs": [
    {
     "name": "stdout",
     "output_type": "stream",
     "text": [
      "Generator |ls4    |ls5    |ls6    |ls7    |ls8    |ls9    |ls10   |ls11   |ls12   |ls13   |ss0    |ss1    |ss2    |ss3    |6-5    |6-6    |7-5    |7-6    |p<8    |p8-13  |p14-18 |p19+   |\n"
     ]
    },
    {
     "name": "stderr",
     "output_type": "stream",
     "text": [
      "/home/thom/.local/lib/python3.6/site-packages/ipykernel_launcher.py:6: RuntimeWarning: divide by zero encountered in double_scalars\n",
      "  \n"
     ]
    },
    {
     "name": "stdout",
     "output_type": "stream",
     "text": [
      "Bad LCG   |-360.61|  81.04| 190.71| 234.83| 135.22| 100.17|   -inf|   -inf|   -inf|   -inf| 300.14| 281.25|-238.06|-301.86|  75.04|  67.49| 115.22|  23.52| -32.51|  29.39| -10.73| -13.10|\n",
      "RANDU     |  -7.30|  -1.91|   5.65|   7.93|   4.69|   3.37|   1.34|  -0.30|   -inf|   -inf|  -3.31|   4.54|  -0.96|  -4.96|   1.19|  -1.53|  -0.13|  -1.07|  -3.48|   3.25|  -1.29|  -1.47|\n",
      "Good LCG  |  -1.10|   1.30|  -0.62|  -1.37|  -2.34|   1.78|  -2.49|   0.00|   -inf|   -inf|  -3.43|   1.58|   0.55|  -2.84|   0.91|   0.08|   0.10|  -0.72|   0.21|  -0.32|   0.50|  -0.31|\n",
      "Halton 2  |2216.20|-1533.54|-1219.24|-396.66|-714.98|   -inf|   -inf|   -inf|   -inf|   -inf|-386.09|-1621.55| 181.72|1660.59|-562.67|-102.11|-218.67|  71.54|-259.00| 239.10| -85.89|-121.22|\n",
      "Halton 5  |1724.90|-772.38|-1110.45|-1496.66|-431.31|  47.28|   -inf|   -inf|   -inf|   -inf|-786.79|-992.01| 445.83|1019.62|-715.08|   -inf|   -inf|   -inf|-783.41|1030.37|-778.31|-619.94|\n",
      "Halton 11 | 951.25| 177.90|-1327.38|-1565.09|-584.21|   -inf|   -inf|   -inf|   -inf|   -inf|-716.99|-959.30| 383.34| 967.77|-655.77|   -inf|   -inf|   -inf|-1208.00|1315.16|-646.29|-2090.34|\n",
      "Halton 13 |1396.27|-577.03|-904.29|-844.91|-623.59|   -inf|   -inf|   -inf|   -inf|   -inf|-129.27|-700.05|-161.26|1082.96|-386.42|  18.58|-113.05|   -inf|-1489.88|1435.49|-524.14|-4251.03|\n",
      "Halton 52 |-22082.55|-10676.50|-618.06|3118.27|2914.24|2507.44|2260.86|1674.74| 696.94| 297.61|14976.33|-3506.43|-15643.47|-21017.57|1191.81| 804.15|1379.95|2228.45| -15.55|-311.44| 692.93|-380.58|\n",
      "Mersenne  |   0.17|  -0.00|  -0.28|  -1.63|  -2.97|  -0.58|  -1.70|   1.21|   -inf|   -inf|  -2.92|  -0.57|   0.83|  -0.39|  -0.10|   1.17|  -0.50|  -1.55|  -0.70|   0.66|   0.16|  -1.17|\n"
     ]
    }
   ],
   "source": [
    "n = 10**7\n",
    "\n",
    "sigma=5\n",
    "all_results = []\n",
    "print(\"{:10}\".format(\"Generator\"), end='|')\n",
    "for x  in cu.feature_string:\n",
    "    print(\"{:7}\".format(x), end='|')\n",
    "print()\n",
    "for name, gen in gens.items():\n",
    "    results = run_test(gen, n, sigma)\n",
    "    all_results.append(results)\n",
    "    print(\"{:10}\".format(name), end='|')\n",
    "    for item in results:\n",
    "        print(\"{:7.2f}\".format(item), end='|')\n",
    "    print()"
   ]
  },
  {
   "cell_type": "code",
   "execution_count": 13,
   "metadata": {
    "ExecuteTime": {
     "end_time": "2019-03-22T19:01:35.194263Z",
     "start_time": "2019-03-22T18:55:28.133622Z"
    }
   },
   "outputs": [
    {
     "ename": "KeyboardInterrupt",
     "evalue": "",
     "output_type": "error",
     "traceback": [
      "\u001b[0;31m---------------------------------------------------------------------------\u001b[0m",
      "\u001b[0;31mKeyboardInterrupt\u001b[0m                         Traceback (most recent call last)",
      "\u001b[0;32m<ipython-input-13-f4ddba5b8762>\u001b[0m in \u001b[0;36m<module>\u001b[0;34m\u001b[0m\n\u001b[1;32m      3\u001b[0m \u001b[0;34m\u001b[0m\u001b[0m\n\u001b[1;32m      4\u001b[0m \u001b[0;32mfor\u001b[0m \u001b[0mi\u001b[0m \u001b[0;32min\u001b[0m \u001b[0mrange\u001b[0m\u001b[0;34m(\u001b[0m\u001b[0;36m10\u001b[0m\u001b[0;34m**\u001b[0m\u001b[0;36m6\u001b[0m\u001b[0;34m)\u001b[0m\u001b[0;34m:\u001b[0m\u001b[0;34m\u001b[0m\u001b[0;34m\u001b[0m\u001b[0m\n\u001b[0;32m----> 5\u001b[0;31m     \u001b[0mcounter\u001b[0m\u001b[0;34m.\u001b[0m\u001b[0mupdate\u001b[0m\u001b[0;34m(\u001b[0m\u001b[0;34m(\u001b[0m\u001b[0mhalton2\u001b[0m\u001b[0;34m.\u001b[0m\u001b[0mrandint\u001b[0m\u001b[0;34m(\u001b[0m\u001b[0;36m0\u001b[0m\u001b[0;34m,\u001b[0m \u001b[0;36m52\u001b[0m\u001b[0;34m)\u001b[0m \u001b[0;32mfor\u001b[0m \u001b[0mx\u001b[0m \u001b[0;32min\u001b[0m \u001b[0mrange\u001b[0m\u001b[0;34m(\u001b[0m\u001b[0;36m100\u001b[0m\u001b[0;34m)\u001b[0m\u001b[0;34m)\u001b[0m\u001b[0;34m)\u001b[0m\u001b[0;34m\u001b[0m\u001b[0;34m\u001b[0m\u001b[0m\n\u001b[0m",
      "\u001b[0;32m/usr/lib/python3.6/collections/__init__.py\u001b[0m in \u001b[0;36mupdate\u001b[0;34m(*args, **kwds)\u001b[0m\n\u001b[1;32m    620\u001b[0m                     \u001b[0msuper\u001b[0m\u001b[0;34m(\u001b[0m\u001b[0mCounter\u001b[0m\u001b[0;34m,\u001b[0m \u001b[0mself\u001b[0m\u001b[0;34m)\u001b[0m\u001b[0;34m.\u001b[0m\u001b[0mupdate\u001b[0m\u001b[0;34m(\u001b[0m\u001b[0miterable\u001b[0m\u001b[0;34m)\u001b[0m \u001b[0;31m# fast path when counter is empty\u001b[0m\u001b[0;34m\u001b[0m\u001b[0;34m\u001b[0m\u001b[0m\n\u001b[1;32m    621\u001b[0m             \u001b[0;32melse\u001b[0m\u001b[0;34m:\u001b[0m\u001b[0;34m\u001b[0m\u001b[0;34m\u001b[0m\u001b[0m\n\u001b[0;32m--> 622\u001b[0;31m                 \u001b[0m_count_elements\u001b[0m\u001b[0;34m(\u001b[0m\u001b[0mself\u001b[0m\u001b[0;34m,\u001b[0m \u001b[0miterable\u001b[0m\u001b[0;34m)\u001b[0m\u001b[0;34m\u001b[0m\u001b[0;34m\u001b[0m\u001b[0m\n\u001b[0m\u001b[1;32m    623\u001b[0m         \u001b[0;32mif\u001b[0m \u001b[0mkwds\u001b[0m\u001b[0;34m:\u001b[0m\u001b[0;34m\u001b[0m\u001b[0;34m\u001b[0m\u001b[0m\n\u001b[1;32m    624\u001b[0m             \u001b[0mself\u001b[0m\u001b[0;34m.\u001b[0m\u001b[0mupdate\u001b[0m\u001b[0;34m(\u001b[0m\u001b[0mkwds\u001b[0m\u001b[0;34m)\u001b[0m\u001b[0;34m\u001b[0m\u001b[0;34m\u001b[0m\u001b[0m\n",
      "\u001b[0;32m<ipython-input-13-f4ddba5b8762>\u001b[0m in \u001b[0;36m<genexpr>\u001b[0;34m(.0)\u001b[0m\n\u001b[1;32m      3\u001b[0m \u001b[0;34m\u001b[0m\u001b[0m\n\u001b[1;32m      4\u001b[0m \u001b[0;32mfor\u001b[0m \u001b[0mi\u001b[0m \u001b[0;32min\u001b[0m \u001b[0mrange\u001b[0m\u001b[0;34m(\u001b[0m\u001b[0;36m10\u001b[0m\u001b[0;34m**\u001b[0m\u001b[0;36m6\u001b[0m\u001b[0;34m)\u001b[0m\u001b[0;34m:\u001b[0m\u001b[0;34m\u001b[0m\u001b[0;34m\u001b[0m\u001b[0m\n\u001b[0;32m----> 5\u001b[0;31m     \u001b[0mcounter\u001b[0m\u001b[0;34m.\u001b[0m\u001b[0mupdate\u001b[0m\u001b[0;34m(\u001b[0m\u001b[0;34m(\u001b[0m\u001b[0mhalton2\u001b[0m\u001b[0;34m.\u001b[0m\u001b[0mrandint\u001b[0m\u001b[0;34m(\u001b[0m\u001b[0;36m0\u001b[0m\u001b[0;34m,\u001b[0m \u001b[0;36m52\u001b[0m\u001b[0;34m)\u001b[0m \u001b[0;32mfor\u001b[0m \u001b[0mx\u001b[0m \u001b[0;32min\u001b[0m \u001b[0mrange\u001b[0m\u001b[0;34m(\u001b[0m\u001b[0;36m100\u001b[0m\u001b[0;34m)\u001b[0m\u001b[0;34m)\u001b[0m\u001b[0;34m)\u001b[0m\u001b[0;34m\u001b[0m\u001b[0;34m\u001b[0m\u001b[0m\n\u001b[0m",
      "\u001b[0;31mKeyboardInterrupt\u001b[0m: "
     ]
    }
   ],
   "source": [
    "import collections\n",
    "counter = collections.Counter()\n",
    "for i in range(10**6):\n",
    "    counter.update((badlcg.randint(0, 52) for x in range(100)))"
   ]
  }
 ],
 "metadata": {
  "kernelspec": {
   "display_name": "Python 3",
   "language": "python",
   "name": "python3"
  },
  "language_info": {
   "codemirror_mode": {
    "name": "ipython",
    "version": 3
   },
   "file_extension": ".py",
   "mimetype": "text/x-python",
   "name": "python",
   "nbconvert_exporter": "python",
   "pygments_lexer": "ipython3",
   "version": "3.6.7"
  },
  "latex_envs": {
   "LaTeX_envs_menu_present": true,
   "autoclose": false,
   "autocomplete": true,
   "bibliofile": "biblio.bib",
   "cite_by": "apalike",
   "current_citInitial": 1,
   "eqLabelWithNumbers": true,
   "eqNumInitial": 1,
   "hotkeys": {
    "equation": "Ctrl-E",
    "itemize": "Ctrl-I"
   },
   "labels_anchors": false,
   "latex_user_defs": false,
   "report_style_numbering": false,
   "user_envs_cfg": false
  }
 },
 "nbformat": 4,
 "nbformat_minor": 2
}
